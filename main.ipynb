{
 "cells": [
  {
   "cell_type": "code",
   "execution_count": 51,
   "metadata": {
    "collapsed": true,
    "ExecuteTime": {
     "start_time": "2023-04-20T16:37:35.954282Z",
     "end_time": "2023-04-20T16:37:35.984280Z"
    }
   },
   "outputs": [],
   "source": [
    "import enum\n",
    "import pandas as pd"
   ]
  },
  {
   "cell_type": "code",
   "execution_count": 52,
   "outputs": [],
   "source": [
    "input_df = pd.read_csv(\"C:/Dev/TTScout/src/output.csv\")"
   ],
   "metadata": {
    "collapsed": false,
    "ExecuteTime": {
     "start_time": "2023-04-20T16:37:35.964288Z",
     "end_time": "2023-04-20T16:37:36.003906Z"
    }
   }
  },
  {
   "cell_type": "code",
   "execution_count": 53,
   "outputs": [],
   "source": [
    "class OutputHeaders(str, enum.Enum):\n",
    "    Match = \"Match #\"\n",
    "    Team = \"Team #\"\n",
    "    Position = \"Position\"\n",
    "    Scouter = \"Scouter\"\n",
    "    Question = \"Question\"\n",
    "    Bubble = \"Bubble\"\n",
    "    Value = \"Value\"\n",
    "\n",
    "    @classmethod\n",
    "    def get_values(cls):\n",
    "        return [e.value for e in cls]"
   ],
   "metadata": {
    "collapsed": false,
    "ExecuteTime": {
     "start_time": "2023-04-20T16:37:36.003906Z",
     "end_time": "2023-04-20T16:37:36.017732Z"
    }
   }
  },
  {
   "cell_type": "code",
   "execution_count": 54,
   "outputs": [],
   "source": [
    "transformed_data = []\n",
    "input_df.reset_index()\n",
    "\n",
    "new_headers = {}\n",
    "tracked_team = None\n",
    "tracked_match = None\n",
    "tracked_position = None\n",
    "tracked_scouter = None\n",
    "n_rows = len(input_df.index)\n",
    "\n",
    "for index, row in input_df.iterrows():\n",
    "    row_team, row_match = row[OutputHeaders.Team.value], row[OutputHeaders.Match.value]\n",
    "    row_pos, row_scouter = row[OutputHeaders.Position.value], row[OutputHeaders.Scouter.value]\n",
    "\n",
    "    if tracked_match is None:\n",
    "        tracked_match = row_match\n",
    "    if tracked_team is None:\n",
    "        tracked_team = row_team\n",
    "    if tracked_position is None:\n",
    "        tracked_position = row_pos\n",
    "    if tracked_scouter is None:\n",
    "        tracked_scouter = row_scouter\n",
    "\n",
    "    if row_team != tracked_team or row_match != tracked_match:\n",
    "        l_data = [tracked_match, tracked_team, tracked_position, tracked_scouter]\n",
    "        l_data.extend(new_headers.values())\n",
    "        transformed_data.append(l_data)\n",
    "\n",
    "        new_headers = {}\n",
    "        tracked_team = row_team\n",
    "        tracked_match = row_match\n",
    "        tracked_position = row_pos\n",
    "        tracked_scouter = row_scouter\n",
    "    elif index >= (n_rows - 1):\n",
    "        l_data = [row_match, row_team, row_pos, row_scouter]\n",
    "        new_headers[row[OutputHeaders.Question.value] + row[OutputHeaders.Bubble.value]] = row[OutputHeaders.Value.value]\n",
    "\n",
    "        l_data.extend(new_headers.values())\n",
    "        transformed_data.append(l_data)\n",
    "        break\n",
    "\n",
    "    new_headers[row[OutputHeaders.Question.value] + row[OutputHeaders.Bubble.value]] = row[OutputHeaders.Value.value]\n",
    "\n",
    "# print(transformed_data)\n",
    "l_headers = [OutputHeaders.Match.value, OutputHeaders.Team.value, OutputHeaders.Position.value, OutputHeaders.Scouter.value]\n",
    "l_headers.extend(new_headers.keys())\n",
    "transformed_df = pd.DataFrame(transformed_data, columns=l_headers)"
   ],
   "metadata": {
    "collapsed": false,
    "ExecuteTime": {
     "start_time": "2023-04-20T16:37:36.017732Z",
     "end_time": "2023-04-20T16:37:37.300320Z"
    }
   }
  },
  {
   "cell_type": "code",
   "execution_count": 55,
   "outputs": [],
   "source": [
    "transformed_df.to_csv(\"output.csv\")"
   ],
   "metadata": {
    "collapsed": false,
    "ExecuteTime": {
     "start_time": "2023-04-20T16:37:37.305513Z",
     "end_time": "2023-04-20T16:37:37.320451Z"
    }
   }
  },
  {
   "cell_type": "code",
   "execution_count": 55,
   "outputs": [],
   "source": [],
   "metadata": {
    "collapsed": false,
    "ExecuteTime": {
     "start_time": "2023-04-20T16:37:37.320451Z",
     "end_time": "2023-04-20T16:37:37.330851Z"
    }
   }
  }
 ],
 "metadata": {
  "kernelspec": {
   "display_name": "Python 3",
   "language": "python",
   "name": "python3"
  },
  "language_info": {
   "codemirror_mode": {
    "name": "ipython",
    "version": 2
   },
   "file_extension": ".py",
   "mimetype": "text/x-python",
   "name": "python",
   "nbconvert_exporter": "python",
   "pygments_lexer": "ipython2",
   "version": "2.7.6"
  }
 },
 "nbformat": 4,
 "nbformat_minor": 0
}
