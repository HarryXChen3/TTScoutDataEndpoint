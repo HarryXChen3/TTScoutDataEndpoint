{
 "cells": [
  {
   "cell_type": "code",
   "execution_count": 28,
   "metadata": {
    "collapsed": true,
    "ExecuteTime": {
     "start_time": "2023-04-20T11:01:23.639686Z",
     "end_time": "2023-04-20T11:01:23.652206Z"
    }
   },
   "outputs": [],
   "source": [
    "import enum\n",
    "import pandas as pd"
   ]
  },
  {
   "cell_type": "code",
   "execution_count": 29,
   "outputs": [
    {
     "name": "stdout",
     "output_type": "stream",
     "text": [
      "     Match #  Team # Position Scouter             Question   Bubble  Value\n",
      "0          1    5024   Blue 1  Aarush         AutoMobility  Success   True\n",
      "1          1    5024   Blue 1  Aarush           AutoDocked  Success   True\n",
      "2          1    5024   Blue 1  Aarush          AutoEngaged  Success   True\n",
      "3          1    5024   Blue 1  Aarush        TeleopPancake  Success  False\n",
      "4          1    5024   Blue 1  Aarush  TeleopDriverQuality        1  False\n",
      "..       ...     ...      ...     ...                  ...      ...    ...\n",
      "643        1    1414    Red 3  Akarsh         InfoPosition     Blue  False\n",
      "644        1    1414    Red 3  Akarsh         InfoPosition      Red   True\n",
      "645        1    1414    Red 3  Akarsh         InfoPosition        1  False\n",
      "646        1    1414    Red 3  Akarsh         InfoPosition        2  False\n",
      "647        1    1414    Red 3  Akarsh         InfoPosition        3   True\n",
      "\n",
      "[648 rows x 7 columns]\n"
     ]
    }
   ],
   "source": [
    "input_df = pd.read_csv(\"C:/Dev/TTScout/src/output.csv\")\n",
    "print(input_df)"
   ],
   "metadata": {
    "collapsed": false,
    "ExecuteTime": {
     "start_time": "2023-04-20T11:01:23.642195Z",
     "end_time": "2023-04-20T11:01:23.682207Z"
    }
   }
  },
  {
   "cell_type": "code",
   "execution_count": 30,
   "outputs": [],
   "source": [
    "class OutputHeaders(str, enum.Enum):\n",
    "    Match = \"Match #\"\n",
    "    Team = \"Team #\"\n",
    "    Position = \"Position\"\n",
    "    Scouter = \"Scouter\"\n",
    "    Question = \"Question\"\n",
    "    Bubble = \"Bubble\"\n",
    "    Value = \"Value\"\n",
    "\n",
    "    @classmethod\n",
    "    def get_values(cls):\n",
    "        return [e.value for e in cls]"
   ],
   "metadata": {
    "collapsed": false,
    "ExecuteTime": {
     "start_time": "2023-04-20T11:01:23.662206Z",
     "end_time": "2023-04-20T11:01:23.682207Z"
    }
   }
  },
  {
   "cell_type": "code",
   "execution_count": 31,
   "outputs": [
    {
     "name": "stdout",
     "output_type": "stream",
     "text": [
      "   Match #  Team # Position  Scouter  AutoMobilitySuccess  AutoDockedSuccess  \\\n",
      "0        1    5024   Blue 2  Anvitha                 True               True   \n",
      "1        1    5618   Blue 3    Erica                 True              False   \n",
      "2        1    4988    Red 1    Gauri                False              False   \n",
      "3        1    2539    Red 2    Isaac                 True              False   \n",
      "4        1    5411    Red 3   Akarsh                 True              False   \n",
      "\n",
      "   AutoEngagedSuccess  TeleopPancakeSuccess  TeleopDriverQuality1  \\\n",
      "0                True                 False                 False   \n",
      "1               False                 False                 False   \n",
      "2               False                  True                 False   \n",
      "3               False                 False                 False   \n",
      "4               False                 False                 False   \n",
      "\n",
      "   TeleopDriverQuality2  ...  TeleopDefenseAbility3  TeleopDefenseAbility4  \\\n",
      "0                 False  ...                  False                  False   \n",
      "1                  True  ...                  False                  False   \n",
      "2                  True  ...                  False                  False   \n",
      "3                 False  ...                  False                  False   \n",
      "4                  True  ...                  False                  False   \n",
      "\n",
      "   TeleopDefenseAbility5  TeleopDoubleSubstationSuccess  AutoDNAChargeSuccess  \\\n",
      "0                  False                           True                 False   \n",
      "1                  False                          False                 False   \n",
      "2                  False                          False                  True   \n",
      "3                  False                          False                  True   \n",
      "4                  False                          False                  True   \n",
      "\n",
      "   InfoPositionBlue  InfoPositionRed  InfoPosition1  InfoPosition2  \\\n",
      "0              True            False           True          False   \n",
      "1              True            False          False           True   \n",
      "2              True            False          False          False   \n",
      "3             False             True           True          False   \n",
      "4             False             True          False           True   \n",
      "\n",
      "   InfoPosition3  \n",
      "0          False  \n",
      "1          False  \n",
      "2           True  \n",
      "3          False  \n",
      "4          False  \n",
      "\n",
      "[5 rows x 112 columns]\n"
     ]
    }
   ],
   "source": [
    "transformed_data = []\n",
    "input_df.reset_index()\n",
    "\n",
    "new_headers = {}\n",
    "tracked_team = None\n",
    "tracked_match = None\n",
    "for index, row in input_df.iterrows():\n",
    "    row_team, row_match =  row[OutputHeaders.Team.value], row[OutputHeaders.Match.value]\n",
    "\n",
    "    if tracked_team is None and tracked_match is None:\n",
    "        tracked_team = row_team\n",
    "        tracked_match = row_match\n",
    "    elif row_team != tracked_team or row_match != tracked_match:\n",
    "        l_data = [tracked_match, tracked_team, row[OutputHeaders.Position.value], row[OutputHeaders.Scouter.value]]\n",
    "        l_data.extend(new_headers.values())\n",
    "        transformed_data.append(l_data)\n",
    "\n",
    "        new_headers = {}\n",
    "        tracked_team = row_team\n",
    "        tracked_match = row_match\n",
    "\n",
    "    new_headers[row[OutputHeaders.Question.value] + row[OutputHeaders.Bubble.value]] = row[OutputHeaders.Value.value]\n",
    "\n",
    "# print(transformed_data)\n",
    "l_headers = [OutputHeaders.Match.value, OutputHeaders.Team.value, OutputHeaders.Position.value, OutputHeaders.Scouter.value]\n",
    "l_headers.extend(new_headers.keys())\n",
    "transformed_df = pd.DataFrame(transformed_data, columns=l_headers)\n",
    "print(transformed_df)"
   ],
   "metadata": {
    "collapsed": false,
    "ExecuteTime": {
     "start_time": "2023-04-20T11:01:23.672207Z",
     "end_time": "2023-04-20T11:01:23.754303Z"
    }
   }
  },
  {
   "cell_type": "code",
   "execution_count": 32,
   "outputs": [],
   "source": [
    "transformed_df.to_csv(\"output.csv\")"
   ],
   "metadata": {
    "collapsed": false,
    "ExecuteTime": {
     "start_time": "2023-04-20T11:01:23.724105Z",
     "end_time": "2023-04-20T11:01:23.754303Z"
    }
   }
  },
  {
   "cell_type": "code",
   "execution_count": 32,
   "outputs": [],
   "source": [],
   "metadata": {
    "collapsed": false,
    "ExecuteTime": {
     "start_time": "2023-04-20T11:01:23.744246Z",
     "end_time": "2023-04-20T11:01:23.754303Z"
    }
   }
  },
  {
   "cell_type": "code",
   "execution_count": 32,
   "outputs": [],
   "source": [],
   "metadata": {
    "collapsed": false,
    "ExecuteTime": {
     "start_time": "2023-04-20T11:01:23.754303Z",
     "end_time": "2023-04-20T11:01:23.764271Z"
    }
   }
  }
 ],
 "metadata": {
  "kernelspec": {
   "display_name": "Python 3",
   "language": "python",
   "name": "python3"
  },
  "language_info": {
   "codemirror_mode": {
    "name": "ipython",
    "version": 2
   },
   "file_extension": ".py",
   "mimetype": "text/x-python",
   "name": "python",
   "nbconvert_exporter": "python",
   "pygments_lexer": "ipython2",
   "version": "2.7.6"
  }
 },
 "nbformat": 4,
 "nbformat_minor": 0
}
