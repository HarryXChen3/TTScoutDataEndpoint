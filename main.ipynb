{
 "cells": [
  {
   "cell_type": "code",
   "execution_count": 1,
   "metadata": {
    "collapsed": true,
    "ExecuteTime": {
     "start_time": "2023-04-20T23:06:50.808168Z",
     "end_time": "2023-04-20T23:06:51.635735Z"
    }
   },
   "outputs": [],
   "source": [
    "import enum\n",
    "import pandas as pd"
   ]
  },
  {
   "cell_type": "code",
   "execution_count": 2,
   "outputs": [],
   "source": [
    "input_df = pd.read_csv(\"C:/Dev/TTScout/src/output.csv\")"
   ],
   "metadata": {
    "collapsed": false,
    "ExecuteTime": {
     "start_time": "2023-04-20T23:06:51.638678Z",
     "end_time": "2023-04-20T23:06:51.689024Z"
    }
   }
  },
  {
   "cell_type": "code",
   "execution_count": 3,
   "outputs": [],
   "source": [
    "class OutputHeaders(str, enum.Enum):\n",
    "    Match = \"Match #\"\n",
    "    Team = \"Team #\"\n",
    "    Position = \"Position\"\n",
    "    Scouter = \"Scouter\"\n",
    "    Question = \"Question\"\n",
    "    Bubble = \"Bubble\"\n",
    "    Value = \"Value\"\n",
    "\n",
    "    @classmethod\n",
    "    def get_values(cls):\n",
    "        return [e.value for e in cls]"
   ],
   "metadata": {
    "collapsed": false,
    "ExecuteTime": {
     "start_time": "2023-04-20T23:06:51.689024Z",
     "end_time": "2023-04-20T23:06:51.699034Z"
    }
   }
  },
  {
   "cell_type": "code",
   "execution_count": 4,
   "outputs": [],
   "source": [
    "transformed_data = []\n",
    "input_df.reset_index()\n",
    "\n",
    "new_headers = {}\n",
    "tracked_team = None\n",
    "tracked_match = None\n",
    "tracked_position = None\n",
    "tracked_scouter = None\n",
    "n_rows = len(input_df.index)\n",
    "\n",
    "for index, row in input_df.iterrows():\n",
    "    row_team, row_match = row[OutputHeaders.Team.value], row[OutputHeaders.Match.value]\n",
    "    row_pos, row_scouter = row[OutputHeaders.Position.value], row[OutputHeaders.Scouter.value]\n",
    "\n",
    "    if tracked_match is None:\n",
    "        tracked_match = row_match\n",
    "    if tracked_team is None:\n",
    "        tracked_team = row_team\n",
    "    if tracked_position is None:\n",
    "        tracked_position = row_pos\n",
    "    if tracked_scouter is None:\n",
    "        tracked_scouter = row_scouter\n",
    "\n",
    "    if row_team != tracked_team or row_match != tracked_match:\n",
    "        l_data = [tracked_match, tracked_team, tracked_position, tracked_scouter]\n",
    "        l_data.extend(new_headers.values())\n",
    "        transformed_data.append(l_data)\n",
    "\n",
    "        new_headers = {}\n",
    "        tracked_team = row_team\n",
    "        tracked_match = row_match\n",
    "        tracked_position = row_pos\n",
    "        tracked_scouter = row_scouter\n",
    "    elif index >= (n_rows - 1):\n",
    "        l_data = [row_match, row_team, row_pos, row_scouter]\n",
    "        new_headers[row[OutputHeaders.Question.value] + row[OutputHeaders.Bubble.value]] = row[OutputHeaders.Value.value]\n",
    "\n",
    "        l_data.extend(new_headers.values())\n",
    "        transformed_data.append(l_data)\n",
    "        break\n",
    "\n",
    "    new_headers[row[OutputHeaders.Question.value] + row[OutputHeaders.Bubble.value]] = row[OutputHeaders.Value.value]\n",
    "\n",
    "# print(transformed_data)\n",
    "l_headers = [OutputHeaders.Match.value, OutputHeaders.Team.value, OutputHeaders.Position.value, OutputHeaders.Scouter.value]\n",
    "l_headers.extend(new_headers.keys())\n",
    "transformed_df = pd.DataFrame(transformed_data, columns=l_headers)"
   ],
   "metadata": {
    "collapsed": false,
    "ExecuteTime": {
     "start_time": "2023-04-20T23:06:51.699034Z",
     "end_time": "2023-04-20T23:06:53.280518Z"
    }
   }
  },
  {
   "cell_type": "code",
   "execution_count": 5,
   "outputs": [],
   "source": [
    "transformed_df.to_csv(\"output.csv\")"
   ],
   "metadata": {
    "collapsed": false,
    "ExecuteTime": {
     "start_time": "2023-04-20T23:06:53.280518Z",
     "end_time": "2023-04-20T23:06:53.300248Z"
    }
   }
  },
  {
   "cell_type": "code",
   "execution_count": 5,
   "outputs": [],
   "source": [],
   "metadata": {
    "collapsed": false,
    "ExecuteTime": {
     "start_time": "2023-04-20T23:06:53.300248Z",
     "end_time": "2023-04-20T23:06:53.310198Z"
    }
   }
  }
 ],
 "metadata": {
  "kernelspec": {
   "display_name": "Python 3",
   "language": "python",
   "name": "python3"
  },
  "language_info": {
   "codemirror_mode": {
    "name": "ipython",
    "version": 2
   },
   "file_extension": ".py",
   "mimetype": "text/x-python",
   "name": "python",
   "nbconvert_exporter": "python",
   "pygments_lexer": "ipython2",
   "version": "2.7.6"
  }
 },
 "nbformat": 4,
 "nbformat_minor": 0
}
