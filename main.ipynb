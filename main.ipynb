{
 "cells": [
  {
   "cell_type": "code",
   "execution_count": 43,
   "metadata": {
    "collapsed": true,
    "ExecuteTime": {
     "start_time": "2023-04-20T12:29:36.091578Z",
     "end_time": "2023-04-20T12:29:36.107528Z"
    }
   },
   "outputs": [],
   "source": [
    "import enum\n",
    "import pandas as pd"
   ]
  },
  {
   "cell_type": "code",
   "execution_count": 44,
   "outputs": [],
   "source": [
    "input_df = pd.read_csv(\"C:/Dev/TTScout/src/output.csv\")"
   ],
   "metadata": {
    "collapsed": false,
    "ExecuteTime": {
     "start_time": "2023-04-20T12:29:36.105395Z",
     "end_time": "2023-04-20T12:29:36.158683Z"
    }
   }
  },
  {
   "cell_type": "code",
   "execution_count": 45,
   "outputs": [],
   "source": [
    "class OutputHeaders(str, enum.Enum):\n",
    "    Match = \"Match #\"\n",
    "    Team = \"Team #\"\n",
    "    Position = \"Position\"\n",
    "    Scouter = \"Scouter\"\n",
    "    Question = \"Question\"\n",
    "    Bubble = \"Bubble\"\n",
    "    Value = \"Value\"\n",
    "\n",
    "    @classmethod\n",
    "    def get_values(cls):\n",
    "        return [e.value for e in cls]"
   ],
   "metadata": {
    "collapsed": false,
    "ExecuteTime": {
     "start_time": "2023-04-20T12:29:36.158683Z",
     "end_time": "2023-04-20T12:29:36.179073Z"
    }
   }
  },
  {
   "cell_type": "code",
   "execution_count": 46,
   "outputs": [],
   "source": [
    "transformed_data = []\n",
    "input_df.reset_index()\n",
    "\n",
    "new_headers = {}\n",
    "tracked_team = None\n",
    "tracked_match = None\n",
    "for index, row in input_df.iterrows():\n",
    "    row_team, row_match =  row[OutputHeaders.Team.value], row[OutputHeaders.Match.value]\n",
    "\n",
    "    if tracked_team is None and tracked_match is None:\n",
    "        tracked_team = row_team\n",
    "        tracked_match = row_match\n",
    "    elif row_team != tracked_team or row_match != tracked_match:\n",
    "        l_data = [tracked_match, tracked_team, row[OutputHeaders.Position.value], row[OutputHeaders.Scouter.value]]\n",
    "        l_data.extend(new_headers.values())\n",
    "        transformed_data.append(l_data)\n",
    "\n",
    "        new_headers = {}\n",
    "        tracked_team = row_team\n",
    "        tracked_match = row_match\n",
    "\n",
    "    new_headers[row[OutputHeaders.Question.value] + row[OutputHeaders.Bubble.value]] = row[OutputHeaders.Value.value]\n",
    "\n",
    "# print(transformed_data)\n",
    "l_headers = [OutputHeaders.Match.value, OutputHeaders.Team.value, OutputHeaders.Position.value, OutputHeaders.Scouter.value]\n",
    "l_headers.extend(new_headers.keys())\n",
    "transformed_df = pd.DataFrame(transformed_data, columns=l_headers)"
   ],
   "metadata": {
    "collapsed": false,
    "ExecuteTime": {
     "start_time": "2023-04-20T12:29:36.191190Z",
     "end_time": "2023-04-20T12:29:37.351075Z"
    }
   }
  },
  {
   "cell_type": "code",
   "execution_count": 47,
   "outputs": [],
   "source": [
    "transformed_df.to_csv(\"output.csv\")"
   ],
   "metadata": {
    "collapsed": false,
    "ExecuteTime": {
     "start_time": "2023-04-20T12:29:37.351075Z",
     "end_time": "2023-04-20T12:29:37.373373Z"
    }
   }
  }
 ],
 "metadata": {
  "kernelspec": {
   "display_name": "Python 3",
   "language": "python",
   "name": "python3"
  },
  "language_info": {
   "codemirror_mode": {
    "name": "ipython",
    "version": 2
   },
   "file_extension": ".py",
   "mimetype": "text/x-python",
   "name": "python",
   "nbconvert_exporter": "python",
   "pygments_lexer": "ipython2",
   "version": "2.7.6"
  }
 },
 "nbformat": 4,
 "nbformat_minor": 0
}
